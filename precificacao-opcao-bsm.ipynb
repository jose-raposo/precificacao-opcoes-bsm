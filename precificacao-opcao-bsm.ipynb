{
 "cells": [
  {
   "cell_type": "code",
   "execution_count": 1,
   "metadata": {},
   "outputs": [
    {
     "data": {
      "text/html": [
       "<div>\n",
       "<style scoped>\n",
       "    .dataframe tbody tr th:only-of-type {\n",
       "        vertical-align: middle;\n",
       "    }\n",
       "\n",
       "    .dataframe tbody tr th {\n",
       "        vertical-align: top;\n",
       "    }\n",
       "\n",
       "    .dataframe thead th {\n",
       "        text-align: right;\n",
       "    }\n",
       "</style>\n",
       "<table border=\"1\" class=\"dataframe\">\n",
       "  <thead>\n",
       "    <tr style=\"text-align: right;\">\n",
       "      <th></th>\n",
       "      <th>PETR4.SA</th>\n",
       "    </tr>\n",
       "    <tr>\n",
       "      <th>Date</th>\n",
       "      <th></th>\n",
       "    </tr>\n",
       "  </thead>\n",
       "  <tbody>\n",
       "    <tr>\n",
       "      <th>2010-01-04</th>\n",
       "      <td>31.196165</td>\n",
       "    </tr>\n",
       "    <tr>\n",
       "      <th>2010-01-05</th>\n",
       "      <td>30.928682</td>\n",
       "    </tr>\n",
       "    <tr>\n",
       "      <th>2010-01-06</th>\n",
       "      <td>31.346632</td>\n",
       "    </tr>\n",
       "    <tr>\n",
       "      <th>2010-01-07</th>\n",
       "      <td>31.054062</td>\n",
       "    </tr>\n",
       "    <tr>\n",
       "      <th>2010-01-08</th>\n",
       "      <td>30.886881</td>\n",
       "    </tr>\n",
       "  </tbody>\n",
       "</table>\n",
       "</div>"
      ],
      "text/plain": [
       "             PETR4.SA\n",
       "Date                 \n",
       "2010-01-04  31.196165\n",
       "2010-01-05  30.928682\n",
       "2010-01-06  31.346632\n",
       "2010-01-07  31.054062\n",
       "2010-01-08  30.886881"
      ]
     },
     "execution_count": 1,
     "metadata": {},
     "output_type": "execute_result"
    }
   ],
   "source": [
    "# Vamos calcular o preço teórico de uma opção de compra de PETR4 utilizando o modelo de Black and Scholes\n",
    "# Começamos importando as bibliotecas utilizadas de costume para o tratamento de assuntos financeiros\n",
    "\n",
    "import pandas as pd\n",
    "import numpy as np\n",
    "import matplotlib.pyplot as plt\n",
    "from scipy.stats import norm\n",
    "from pandas_datareader import data as web\n",
    "%matplotlib inline\n",
    "\n",
    "# Agora, vamos importar os dados do preço de fechamento diário ajustado da PETR4 por um prazo de 10 anos\n",
    "# Para isso, opto por utilizar a API Yahoo Finance\n",
    "\n",
    "acao = 'PETR4.SA'\n",
    "precos = pd.DataFrame()\n",
    "precos[acao] = web.DataReader(acao, data_source = 'yahoo', start = '2010-01-01')['Adj Close']\n",
    "precos.head()"
   ]
  },
  {
   "cell_type": "markdown",
   "metadata": {},
   "source": [
    "$$\n",
    "d_1 = \\frac{\\ln(\\frac{S}{K}) + (r + \\frac{stdev^2}{2})t}{s \\cdot \\sqrt{t}}\n",
    "$$\n",
    "\n",
    "$$\n",
    "d_2 = d_1 - s \\cdot \\sqrt{t} = \\frac{\\ln(\\frac{S}{K}) + (r - \\frac{stdev^2}{2})t}{s \\cdot \\sqrt{t}}\n",
    "$$"
   ]
  },
  {
   "cell_type": "code",
   "execution_count": 2,
   "metadata": {},
   "outputs": [],
   "source": [
    "# As fórmulas acima correspondem a primeira (d1) e segunda (d2) derivadas da equação de Black and Scholes\n",
    "# Elas tomam como parâmetros o preço do ativo subjacente (S), Strike (K) da call, taxa de juros (r), volatilidade e tempo.\n",
    "# Devemos ainda lembrar que, o modelo de Black and Scholes clássico assume:\n",
    "# (1) Não distribuição de dividendos\n",
    "# (2) EMH - hipótese do mercado eficiente\n",
    "# (3) Custos de transação nulos\n",
    "# (4) Volatilidade e taxa de juros constantes\n",
    "# Entendido isso, basta definirmos em Python funções iguais às fórmulas acima, o que fica bem simples utilizando funções Numpy\n",
    "\n",
    "def d1(S, K, r, stdev, T):\n",
    "    return (np.log(S / K) + (r + stdev ** 2 / 2) * T) / (stdev * np.sqrt(T))\n",
    " \n",
    "def d2(S, K, r, stdev, T):\n",
    "    return (np.log(S / K) + (r - stdev ** 2 / 2) * T) / (stdev * np.sqrt(T))"
   ]
  },
  {
   "cell_type": "markdown",
   "metadata": {},
   "source": [
    "$$\n",
    "\\textbf{C} = SN(d_1) - Ke^{-rt}N(d_2) \n",
    "$$"
   ]
  },
  {
   "cell_type": "code",
   "execution_count": 3,
   "metadata": {},
   "outputs": [],
   "source": [
    "# Acima, temos a fórmula do preço da Call tomando como parâmetros a primeira e segunda derivadas\n",
    "# Além disso, como estamos trabalhando com probabilidades de distribuição, usaremos a função norm.cdf para esse objetivo\n",
    "# De modo análogo ao que fizemos para d1 e d2, faremos para a função preço, que nesse caso chamei de BSM\n",
    "\n",
    "def BSM(S, K, r, stdev, T):\n",
    "        return (S * norm.cdf(d1(S, K, r, stdev, T))) - (K * np.exp(-r * T) * norm.cdf(d2(S, K, r, stdev, T)))"
   ]
  },
  {
   "cell_type": "code",
   "execution_count": 5,
   "metadata": {},
   "outputs": [
    {
     "data": {
      "text/plain": [
       "PETR4.SA    19.719999\n",
       "Name: 2020-11-06 00:00:00, dtype: float64"
      ]
     },
     "execution_count": 5,
     "metadata": {},
     "output_type": "execute_result"
    }
   ],
   "source": [
    "# Agora, basta definirmos o preço do ativo subjacente como o último preço de negociação até a realização desse trabalho\n",
    "# Usamos a função iloc para obter esse preço\n",
    "\n",
    "S = precos.iloc[-1]\n",
    "S"
   ]
  },
  {
   "cell_type": "code",
   "execution_count": 6,
   "metadata": {},
   "outputs": [
    {
     "data": {
      "text/html": [
       "<div>\n",
       "<style scoped>\n",
       "    .dataframe tbody tr th:only-of-type {\n",
       "        vertical-align: middle;\n",
       "    }\n",
       "\n",
       "    .dataframe tbody tr th {\n",
       "        vertical-align: top;\n",
       "    }\n",
       "\n",
       "    .dataframe thead th {\n",
       "        text-align: right;\n",
       "    }\n",
       "</style>\n",
       "<table border=\"1\" class=\"dataframe\">\n",
       "  <thead>\n",
       "    <tr style=\"text-align: right;\">\n",
       "      <th></th>\n",
       "      <th>PETR4.SA</th>\n",
       "    </tr>\n",
       "    <tr>\n",
       "      <th>Date</th>\n",
       "      <th></th>\n",
       "    </tr>\n",
       "  </thead>\n",
       "  <tbody>\n",
       "    <tr>\n",
       "      <th>2010-01-04</th>\n",
       "      <td>NaN</td>\n",
       "    </tr>\n",
       "    <tr>\n",
       "      <th>2010-01-05</th>\n",
       "      <td>-0.008611</td>\n",
       "    </tr>\n",
       "    <tr>\n",
       "      <th>2010-01-06</th>\n",
       "      <td>0.013423</td>\n",
       "    </tr>\n",
       "    <tr>\n",
       "      <th>2010-01-07</th>\n",
       "      <td>-0.009377</td>\n",
       "    </tr>\n",
       "    <tr>\n",
       "      <th>2010-01-08</th>\n",
       "      <td>-0.005398</td>\n",
       "    </tr>\n",
       "    <tr>\n",
       "      <th>...</th>\n",
       "      <td>...</td>\n",
       "    </tr>\n",
       "    <tr>\n",
       "      <th>2020-10-30</th>\n",
       "      <td>-0.018311</td>\n",
       "    </tr>\n",
       "    <tr>\n",
       "      <th>2020-11-03</th>\n",
       "      <td>0.036801</td>\n",
       "    </tr>\n",
       "    <tr>\n",
       "      <th>2020-11-04</th>\n",
       "      <td>0.003556</td>\n",
       "    </tr>\n",
       "    <tr>\n",
       "      <th>2020-11-05</th>\n",
       "      <td>0.008584</td>\n",
       "    </tr>\n",
       "    <tr>\n",
       "      <th>2020-11-06</th>\n",
       "      <td>-0.008584</td>\n",
       "    </tr>\n",
       "  </tbody>\n",
       "</table>\n",
       "<p>2653 rows × 1 columns</p>\n",
       "</div>"
      ],
      "text/plain": [
       "            PETR4.SA\n",
       "Date                \n",
       "2010-01-04       NaN\n",
       "2010-01-05 -0.008611\n",
       "2010-01-06  0.013423\n",
       "2010-01-07 -0.009377\n",
       "2010-01-08 -0.005398\n",
       "...              ...\n",
       "2020-10-30 -0.018311\n",
       "2020-11-03  0.036801\n",
       "2020-11-04  0.003556\n",
       "2020-11-05  0.008584\n",
       "2020-11-06 -0.008584\n",
       "\n",
       "[2653 rows x 1 columns]"
      ]
     },
     "execution_count": 6,
     "metadata": {},
     "output_type": "execute_result"
    }
   ],
   "source": [
    "# Agora, devemos calcular os retornos logarítmicos da série de dados, para posteriormente obtermos o parâmetro stdev\n",
    "\n",
    "log_returns = np.log(1 + precos.pct_change())\n",
    "log_returns"
   ]
  },
  {
   "cell_type": "code",
   "execution_count": 7,
   "metadata": {},
   "outputs": [
    {
     "data": {
      "text/plain": [
       "PETR4.SA    0.474874\n",
       "dtype: float64"
      ]
     },
     "execution_count": 7,
     "metadata": {},
     "output_type": "execute_result"
    }
   ],
   "source": [
    "# Como queremos a vol anual realizada , e não a implícita, anualizaremos stdev\n",
    "\n",
    "stdev = log_returns.std() * 250 ** 0.5\n",
    "stdev"
   ]
  },
  {
   "cell_type": "code",
   "execution_count": 8,
   "metadata": {},
   "outputs": [],
   "source": [
    "# Os outros parâmetros podem ser declarados manualmente.\n",
    "# Considerei a taxa de juros igual à taxa Selic atual (2% a.a)\n",
    "# Para definir o Strike e o tempo de vida da opção, consultei o opcoes.net para confrontar o preço que iremos obter com o preço de uma opção real\n",
    "# Escolhi a PETRL220 com último negócio a R$ 0,75, com strike K de R$ 20,61 e 30 dias úteis para o vencimento\n",
    "# Vamos escrever esses dados\n",
    "\n",
    "r = 0.02\n",
    "K = 20.61\n",
    "T = 30/250"
   ]
  },
  {
   "cell_type": "code",
   "execution_count": 9,
   "metadata": {},
   "outputs": [
    {
     "data": {
      "text/plain": [
       "PETR4.SA   -0.171505\n",
       "dtype: float64"
      ]
     },
     "execution_count": 9,
     "metadata": {},
     "output_type": "execute_result"
    }
   ],
   "source": [
    "# Nessa etapa, basta chamarmos as funções definidas acima com os parâmetros que delimitados - S, K, r, stdev e T.\n",
    "\n",
    "d1(S, K, r, stdev, T)"
   ]
  },
  {
   "cell_type": "code",
   "execution_count": 10,
   "metadata": {
    "scrolled": true
   },
   "outputs": [
    {
     "data": {
      "text/plain": [
       "PETR4.SA   -0.336006\n",
       "dtype: float64"
      ]
     },
     "execution_count": 10,
     "metadata": {},
     "output_type": "execute_result"
    }
   ],
   "source": [
    "# Analogamente...\n",
    "\n",
    "d2(S, K, r, stdev, T)"
   ]
  },
  {
   "cell_type": "code",
   "execution_count": 11,
   "metadata": {
    "scrolled": true
   },
   "outputs": [
    {
     "data": {
      "text/plain": [
       "PETR4.SA    0.942126\n",
       "Name: 2020-11-06 00:00:00, dtype: float64"
      ]
     },
     "execution_count": 11,
     "metadata": {},
     "output_type": "execute_result"
    }
   ],
   "source": [
    "# Por fim, calculamos o preço teórico da Call pelo Método de Black and Scholes\n",
    "\n",
    "BSM(S, K, r, stdev, T)"
   ]
  },
  {
   "cell_type": "code",
   "execution_count": 12,
   "metadata": {},
   "outputs": [],
   "source": [
    "# Ou seja, podemos concluir que o preço de mercado de R$ 0,75 é inferior ao preço teórico de R$ 0,94 calculado acima\n",
    "# Isso significa que, pela ótica de precificação do modelo, a opção está subvalorizada, já que o preço teórico supera o de mercado\n",
    "# Isso poderia também ser esperado apenas comparando a volatilidade implícita para a opção 38,4% (no mesmo site) com a volatilidade realizada do período de preços que puxamos \n",
    "# A vol implícita é a vol que, na equação de Black and Scholes, iguala o preço de mercado da opção\n",
    "# Esse estudo NÃO É recomendação de compra nem de venda, apenas analítico e educativo!"
   ]
  }
 ],
 "metadata": {
  "kernelspec": {
   "display_name": "Python 3",
   "language": "python",
   "name": "python3"
  },
  "language_info": {
   "codemirror_mode": {
    "name": "ipython",
    "version": 3
   },
   "file_extension": ".py",
   "mimetype": "text/x-python",
   "name": "python",
   "nbconvert_exporter": "python",
   "pygments_lexer": "ipython3",
   "version": "3.8.3"
  }
 },
 "nbformat": 4,
 "nbformat_minor": 2
}
